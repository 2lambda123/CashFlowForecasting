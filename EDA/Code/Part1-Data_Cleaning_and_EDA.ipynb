{
 "cells": [
  {
   "cell_type": "markdown",
   "metadata": {},
   "source": [
    "# Exploratory Data Analysis:\n",
    "\n",
    "We would be performing data analysis on data containing all monthly transactions to know the behaviour. "
   ]
  },
  {
   "cell_type": "code",
   "execution_count": 4,
   "metadata": {},
   "outputs": [],
   "source": [
    "# import Libraries:\n",
    "\n",
    "import pandas as pd\n",
    "import numpy as np\n",
    "\n",
    "import seaborn as sns\n",
    "import matplotlib.pyplot as plt\n",
    "import matplotlib.dates as mdates\n",
    "%matplotlib inline\n",
    "\n",
    "import datetime\n",
    "\n",
    "import statsmodels.tsa.api as smt"
   ]
  },
  {
   "cell_type": "markdown",
   "metadata": {},
   "source": [
    "# Load and View Data"
   ]
  },
  {
   "cell_type": "code",
   "execution_count": 5,
   "metadata": {},
   "outputs": [],
   "source": [
    "# Load monthly data:\n",
    "\n",
    "def load_data():  \n",
    "    return pd.read_csv('../data/monthly_data_training.csv')  \n",
    "\n",
    "sales_data = load_data()"
   ]
  },
  {
   "cell_type": "code",
   "execution_count": 6,
   "metadata": {},
   "outputs": [
    {
     "name": "stdout",
     "output_type": "stream",
     "text": [
      "<class 'pandas.core.frame.DataFrame'>\n",
      "RangeIndex: 6081 entries, 0 to 6080\n",
      "Data columns (total 5 columns):\n",
      " #   Column                       Non-Null Count  Dtype  \n",
      "---  ------                       --------------  -----  \n",
      " 0   GL_account                   6081 non-null   int64  \n",
      " 1   GL_account_description       6081 non-null   object \n",
      " 2   account_id                   6081 non-null   int64  \n",
      " 3   partition_ledger_year_month  6081 non-null   int64  \n",
      " 4   amount_usd                   6081 non-null   float64\n",
      "dtypes: float64(1), int64(3), object(1)\n",
      "memory usage: 237.7+ KB\n"
     ]
    }
   ],
   "source": [
    "sales_data.info()"
   ]
  },
  {
   "cell_type": "code",
   "execution_count": 7,
   "metadata": {},
   "outputs": [
    {
     "data": {
      "text/html": [
       "<div>\n",
       "<style scoped>\n",
       "    .dataframe tbody tr th:only-of-type {\n",
       "        vertical-align: middle;\n",
       "    }\n",
       "\n",
       "    .dataframe tbody tr th {\n",
       "        vertical-align: top;\n",
       "    }\n",
       "\n",
       "    .dataframe thead th {\n",
       "        text-align: right;\n",
       "    }\n",
       "</style>\n",
       "<table border=\"1\" class=\"dataframe\">\n",
       "  <thead>\n",
       "    <tr style=\"text-align: right;\">\n",
       "      <th></th>\n",
       "      <th>GL_account</th>\n",
       "      <th>GL_account_description</th>\n",
       "      <th>account_id</th>\n",
       "      <th>partition_ledger_year_month</th>\n",
       "      <th>amount_usd</th>\n",
       "    </tr>\n",
       "  </thead>\n",
       "  <tbody>\n",
       "    <tr>\n",
       "      <th>0</th>\n",
       "      <td>50710</td>\n",
       "      <td>JP Morgan - AUD</td>\n",
       "      <td>550385</td>\n",
       "      <td>201501</td>\n",
       "      <td>-390217.24</td>\n",
       "    </tr>\n",
       "    <tr>\n",
       "      <th>1</th>\n",
       "      <td>50710</td>\n",
       "      <td>JP Morgan - AUD</td>\n",
       "      <td>550385</td>\n",
       "      <td>201502</td>\n",
       "      <td>230944.09</td>\n",
       "    </tr>\n",
       "    <tr>\n",
       "      <th>2</th>\n",
       "      <td>50710</td>\n",
       "      <td>JP Morgan - AUD</td>\n",
       "      <td>550385</td>\n",
       "      <td>201503</td>\n",
       "      <td>367259.69</td>\n",
       "    </tr>\n",
       "    <tr>\n",
       "      <th>3</th>\n",
       "      <td>50710</td>\n",
       "      <td>JP Morgan - AUD</td>\n",
       "      <td>550385</td>\n",
       "      <td>201504</td>\n",
       "      <td>567962.85</td>\n",
       "    </tr>\n",
       "    <tr>\n",
       "      <th>4</th>\n",
       "      <td>50710</td>\n",
       "      <td>JP Morgan - AUD</td>\n",
       "      <td>550385</td>\n",
       "      <td>201505</td>\n",
       "      <td>753175.60</td>\n",
       "    </tr>\n",
       "  </tbody>\n",
       "</table>\n",
       "</div>"
      ],
      "text/plain": [
       "   GL_account GL_account_description  account_id  partition_ledger_year_month  \\\n",
       "0       50710        JP Morgan - AUD      550385                       201501   \n",
       "1       50710        JP Morgan - AUD      550385                       201502   \n",
       "2       50710        JP Morgan - AUD      550385                       201503   \n",
       "3       50710        JP Morgan - AUD      550385                       201504   \n",
       "4       50710        JP Morgan - AUD      550385                       201505   \n",
       "\n",
       "   amount_usd  \n",
       "0  -390217.24  \n",
       "1   230944.09  \n",
       "2   367259.69  \n",
       "3   567962.85  \n",
       "4   753175.60  "
      ]
     },
     "execution_count": 7,
     "metadata": {},
     "output_type": "execute_result"
    }
   ],
   "source": [
    "sales_data.head()"
   ]
  },
  {
   "cell_type": "markdown",
   "metadata": {},
   "source": [
    "# Data Cleaning:"
   ]
  },
  {
   "cell_type": "code",
   "execution_count": 8,
   "metadata": {},
   "outputs": [
    {
     "name": "stdout",
     "output_type": "stream",
     "text": [
      "   GL_account  account_id  partition_ledger_year_month  amount_usd\n",
      "0       50710      550385                       201501  -390217.24\n",
      "1       50710      550385                       201502   230944.09\n",
      "2       50710      550385                       201503   367259.69\n",
      "3       50710      550385                       201504   567962.85\n",
      "4       50710      550385                       201505   753175.60\n"
     ]
    }
   ],
   "source": [
    "# Remove noisy or unnecessary features/columns:\n",
    "# Here GL_account_description is not needed as it is represented by the GL_account feature.\n",
    "\n",
    "# drop unnecessary column:\n",
    "\n",
    "df_clean = sales_data.drop(\"GL_account_description\", axis = 1)\n",
    "print(df_clean.head())"
   ]
  },
  {
   "cell_type": "code",
   "execution_count": 9,
   "metadata": {},
   "outputs": [
    {
     "data": {
      "text/html": [
       "<div>\n",
       "<style scoped>\n",
       "    .dataframe tbody tr th:only-of-type {\n",
       "        vertical-align: middle;\n",
       "    }\n",
       "\n",
       "    .dataframe tbody tr th {\n",
       "        vertical-align: top;\n",
       "    }\n",
       "\n",
       "    .dataframe thead th {\n",
       "        text-align: right;\n",
       "    }\n",
       "</style>\n",
       "<table border=\"1\" class=\"dataframe\">\n",
       "  <thead>\n",
       "    <tr style=\"text-align: right;\">\n",
       "      <th></th>\n",
       "      <th>GL_account</th>\n",
       "      <th>amount_usd</th>\n",
       "    </tr>\n",
       "  </thead>\n",
       "  <tbody>\n",
       "    <tr>\n",
       "      <th>0</th>\n",
       "      <td>48910</td>\n",
       "      <td>1.334681e+05</td>\n",
       "    </tr>\n",
       "    <tr>\n",
       "      <th>1</th>\n",
       "      <td>50710</td>\n",
       "      <td>-1.868533e+08</td>\n",
       "    </tr>\n",
       "    <tr>\n",
       "      <th>2</th>\n",
       "      <td>59610</td>\n",
       "      <td>3.142289e+08</td>\n",
       "    </tr>\n",
       "    <tr>\n",
       "      <th>3</th>\n",
       "      <td>59611</td>\n",
       "      <td>-2.243508e+07</td>\n",
       "    </tr>\n",
       "    <tr>\n",
       "      <th>4</th>\n",
       "      <td>75110</td>\n",
       "      <td>2.061402e+07</td>\n",
       "    </tr>\n",
       "  </tbody>\n",
       "</table>\n",
       "</div>"
      ],
      "text/plain": [
       "   GL_account    amount_usd\n",
       "0       48910  1.334681e+05\n",
       "1       50710 -1.868533e+08\n",
       "2       59610  3.142289e+08\n",
       "3       59611 -2.243508e+07\n",
       "4       75110  2.061402e+07"
      ]
     },
     "execution_count": 9,
     "metadata": {},
     "output_type": "execute_result"
    }
   ],
   "source": [
    "# aggregate data based on accounts:\n",
    "\n",
    "df_aggregated = df_clean.groupby('GL_account')['amount_usd'].sum().reset_index()\n",
    "df_aggregated.head()"
   ]
  },
  {
   "cell_type": "markdown",
   "metadata": {},
   "source": [
    "# EDA for transaction data:"
   ]
  },
  {
   "cell_type": "code",
   "execution_count": 10,
   "metadata": {},
   "outputs": [],
   "source": [
    "# Load detailed transactoin data:\n",
    "\n",
    "def load_data():  \n",
    "    return pd.read_csv('../data/transactions2015-June2019.csv')  \n",
    "\n",
    "sales_data_detailed = load_data()"
   ]
  },
  {
   "cell_type": "code",
   "execution_count": 11,
   "metadata": {},
   "outputs": [
    {
     "name": "stdout",
     "output_type": "stream",
     "text": [
      "<class 'pandas.core.frame.DataFrame'>\n",
      "RangeIndex: 176755 entries, 0 to 176754\n",
      "Data columns (total 13 columns):\n",
      " #   Column                       Non-Null Count   Dtype  \n",
      "---  ------                       --------------   -----  \n",
      " 0   company                      176755 non-null  int64  \n",
      " 1   company_name                 176755 non-null  object \n",
      " 2   GL_account                   176755 non-null  int64  \n",
      " 3   GL_account_description       176755 non-null  object \n",
      " 4   account_id                   176755 non-null  int64  \n",
      " 5   document_type                176755 non-null  object \n",
      " 6   name_alpha_explanation       176755 non-null  object \n",
      " 7   name_remark_explanation      62699 non-null   object \n",
      " 8   address_number               176755 non-null  float64\n",
      " 9   address_name                 125274 non-null  object \n",
      " 10  partition_ledger_year_month  176755 non-null  int64  \n",
      " 11  date_general_ledger          176755 non-null  object \n",
      " 12  amount_usd                   176755 non-null  float64\n",
      "dtypes: float64(2), int64(4), object(7)\n",
      "memory usage: 17.5+ MB\n"
     ]
    }
   ],
   "source": [
    "sales_data_detailed.info()"
   ]
  },
  {
   "cell_type": "code",
   "execution_count": 12,
   "metadata": {},
   "outputs": [
    {
     "data": {
      "text/html": [
       "<div>\n",
       "<style scoped>\n",
       "    .dataframe tbody tr th:only-of-type {\n",
       "        vertical-align: middle;\n",
       "    }\n",
       "\n",
       "    .dataframe tbody tr th {\n",
       "        vertical-align: top;\n",
       "    }\n",
       "\n",
       "    .dataframe thead th {\n",
       "        text-align: right;\n",
       "    }\n",
       "</style>\n",
       "<table border=\"1\" class=\"dataframe\">\n",
       "  <thead>\n",
       "    <tr style=\"text-align: right;\">\n",
       "      <th></th>\n",
       "      <th>company</th>\n",
       "      <th>company_name</th>\n",
       "      <th>GL_account</th>\n",
       "      <th>GL_account_description</th>\n",
       "      <th>account_id</th>\n",
       "      <th>document_type</th>\n",
       "      <th>name_alpha_explanation</th>\n",
       "      <th>name_remark_explanation</th>\n",
       "      <th>address_number</th>\n",
       "      <th>address_name</th>\n",
       "      <th>partition_ledger_year_month</th>\n",
       "      <th>date_general_ledger</th>\n",
       "      <th>amount_usd</th>\n",
       "    </tr>\n",
       "  </thead>\n",
       "  <tbody>\n",
       "    <tr>\n",
       "      <th>0</th>\n",
       "      <td>459</td>\n",
       "      <td>Chevron Australia Pty Ltd</td>\n",
       "      <td>112010</td>\n",
       "      <td>JP Morgan - USD</td>\n",
       "      <td>751280</td>\n",
       "      <td>RC</td>\n",
       "      <td>Bank Deposit</td>\n",
       "      <td>Rec. fr. Tohoku Electric</td>\n",
       "      <td>9931012.0</td>\n",
       "      <td>Tohoku Electric Power Company Inc    USD</td>\n",
       "      <td>201807</td>\n",
       "      <td>7/17/2018</td>\n",
       "      <td>4700449.77</td>\n",
       "    </tr>\n",
       "    <tr>\n",
       "      <th>1</th>\n",
       "      <td>459</td>\n",
       "      <td>Chevron Australia Pty Ltd</td>\n",
       "      <td>112010</td>\n",
       "      <td>JP Morgan - USD</td>\n",
       "      <td>751280</td>\n",
       "      <td>RC</td>\n",
       "      <td>Bank Deposit</td>\n",
       "      <td>Rec fr Chugoku Electric Power</td>\n",
       "      <td>1345553.0</td>\n",
       "      <td>Chugoku Electric Power Company Inc   USD</td>\n",
       "      <td>201808</td>\n",
       "      <td>8/30/2018</td>\n",
       "      <td>5284250.81</td>\n",
       "    </tr>\n",
       "    <tr>\n",
       "      <th>2</th>\n",
       "      <td>459</td>\n",
       "      <td>Chevron Australia Pty Ltd</td>\n",
       "      <td>112010</td>\n",
       "      <td>JP Morgan - USD</td>\n",
       "      <td>751280</td>\n",
       "      <td>JZ</td>\n",
       "      <td>JPM 09/10/2015</td>\n",
       "      <td>NWS-KE-14-NNAP-05-05-15-CH-Kan</td>\n",
       "      <td>0.0</td>\n",
       "      <td>NaN</td>\n",
       "      <td>201510</td>\n",
       "      <td>10/9/2015</td>\n",
       "      <td>3644851.76</td>\n",
       "    </tr>\n",
       "    <tr>\n",
       "      <th>3</th>\n",
       "      <td>459</td>\n",
       "      <td>Chevron Australia Pty Ltd</td>\n",
       "      <td>112010</td>\n",
       "      <td>JP Morgan - USD</td>\n",
       "      <td>751280</td>\n",
       "      <td>RC</td>\n",
       "      <td>Bank Deposit</td>\n",
       "      <td>Rec fr Woodside Energy Ltd</td>\n",
       "      <td>1063556.0</td>\n",
       "      <td>Woodside Energy Ltd                AUD</td>\n",
       "      <td>201902</td>\n",
       "      <td>2/13/2019</td>\n",
       "      <td>4331.25</td>\n",
       "    </tr>\n",
       "    <tr>\n",
       "      <th>4</th>\n",
       "      <td>459</td>\n",
       "      <td>Chevron Australia Pty Ltd</td>\n",
       "      <td>112010</td>\n",
       "      <td>JP Morgan - USD</td>\n",
       "      <td>751280</td>\n",
       "      <td>JZ</td>\n",
       "      <td>JPM 18/11/2015</td>\n",
       "      <td>WOODSIDE CC CAPL SOLE GBP</td>\n",
       "      <td>0.0</td>\n",
       "      <td>NaN</td>\n",
       "      <td>201511</td>\n",
       "      <td>11/18/2015</td>\n",
       "      <td>0.00</td>\n",
       "    </tr>\n",
       "  </tbody>\n",
       "</table>\n",
       "</div>"
      ],
      "text/plain": [
       "   company               company_name  GL_account GL_account_description  \\\n",
       "0      459  Chevron Australia Pty Ltd      112010        JP Morgan - USD   \n",
       "1      459  Chevron Australia Pty Ltd      112010        JP Morgan - USD   \n",
       "2      459  Chevron Australia Pty Ltd      112010        JP Morgan - USD   \n",
       "3      459  Chevron Australia Pty Ltd      112010        JP Morgan - USD   \n",
       "4      459  Chevron Australia Pty Ltd      112010        JP Morgan - USD   \n",
       "\n",
       "   account_id document_type name_alpha_explanation  \\\n",
       "0      751280            RC           Bank Deposit   \n",
       "1      751280            RC           Bank Deposit   \n",
       "2      751280            JZ         JPM 09/10/2015   \n",
       "3      751280            RC           Bank Deposit   \n",
       "4      751280            JZ         JPM 18/11/2015   \n",
       "\n",
       "          name_remark_explanation  address_number  \\\n",
       "0        Rec. fr. Tohoku Electric       9931012.0   \n",
       "1   Rec fr Chugoku Electric Power       1345553.0   \n",
       "2  NWS-KE-14-NNAP-05-05-15-CH-Kan             0.0   \n",
       "3      Rec fr Woodside Energy Ltd       1063556.0   \n",
       "4       WOODSIDE CC CAPL SOLE GBP             0.0   \n",
       "\n",
       "                               address_name  partition_ledger_year_month  \\\n",
       "0  Tohoku Electric Power Company Inc    USD                       201807   \n",
       "1  Chugoku Electric Power Company Inc   USD                       201808   \n",
       "2                                       NaN                       201510   \n",
       "3    Woodside Energy Ltd                AUD                       201902   \n",
       "4                                       NaN                       201511   \n",
       "\n",
       "  date_general_ledger  amount_usd  \n",
       "0           7/17/2018  4700449.77  \n",
       "1           8/30/2018  5284250.81  \n",
       "2           10/9/2015  3644851.76  \n",
       "3           2/13/2019     4331.25  \n",
       "4          11/18/2015        0.00  "
      ]
     },
     "execution_count": 12,
     "metadata": {},
     "output_type": "execute_result"
    }
   ],
   "source": [
    "sales_data_detailed.head()"
   ]
  },
  {
   "cell_type": "markdown",
   "metadata": {},
   "source": [
    "# Data Cleaning:"
   ]
  },
  {
   "cell_type": "code",
   "execution_count": 13,
   "metadata": {},
   "outputs": [
    {
     "data": {
      "text/plain": [
       "company                           30\n",
       "company_name                      30\n",
       "GL_account                         8\n",
       "GL_account_description            32\n",
       "account_id                       129\n",
       "document_type                     17\n",
       "name_alpha_explanation          7090\n",
       "name_remark_explanation         9488\n",
       "address_number                  3309\n",
       "address_name                    4616\n",
       "partition_ledger_year_month       54\n",
       "date_general_ledger             1208\n",
       "amount_usd                     74908\n",
       "dtype: int64"
      ]
     },
     "execution_count": 13,
     "metadata": {},
     "output_type": "execute_result"
    }
   ],
   "source": [
    "# Show the unique or distinct values in each columns, form this we can make out that few rows are redundant\n",
    "# and can be removed. For eg. company and company_name (we drop company_name)\n",
    "sales_data_detailed.nunique()"
   ]
  },
  {
   "cell_type": "code",
   "execution_count": 15,
   "metadata": {},
   "outputs": [
    {
     "name": "stdout",
     "output_type": "stream",
     "text": [
      "   company  GL_account GL_account_description  account_id document_type  \\\n",
      "0      459      112010        JP Morgan - USD      751280            RC   \n",
      "1      459      112010        JP Morgan - USD      751280            RC   \n",
      "2      459      112010        JP Morgan - USD      751280            JZ   \n",
      "3      459      112010        JP Morgan - USD      751280            RC   \n",
      "4      459      112010        JP Morgan - USD      751280            JZ   \n",
      "\n",
      "   address_number  partition_ledger_year_month  amount_usd  \n",
      "0       9931012.0                       201807  4700449.77  \n",
      "1       1345553.0                       201808  5284250.81  \n",
      "2             0.0                       201510  3644851.76  \n",
      "3       1063556.0                       201902     4331.25  \n",
      "4             0.0                       201511        0.00  \n"
     ]
    }
   ],
   "source": [
    "# Remove noisy or unnecessary features/columns:\n",
    "# Here company_name is not needed as it is represented by the company feature. \n",
    "# Rest 4 columns are for reference comment purpose or are represented by other column so not needed in training.\n",
    "\n",
    "# drop unnecessary column:\n",
    "\n",
    "sales_data_detailed_clean = sales_data_detailed.drop([\"company_name\", \"name_remark_explanation\", \"address_name\", \"name_alpha_explanation\", \"date_general_ledger\"], axis = 1)\n",
    "print(sales_data_detailed_clean.head())"
   ]
  },
  {
   "cell_type": "code",
   "execution_count": 16,
   "metadata": {},
   "outputs": [
    {
     "name": "stdout",
     "output_type": "stream",
     "text": [
      "company                        0\n",
      "GL_account                     0\n",
      "GL_account_description         0\n",
      "account_id                     0\n",
      "document_type                  0\n",
      "address_number                 0\n",
      "partition_ledger_year_month    0\n",
      "amount_usd                     0\n",
      "dtype: int64\n"
     ]
    }
   ],
   "source": [
    "# Remove NaN containing rows\n",
    "# count the number of missing elements (NaN) in each column\n",
    "\n",
    "counter_nan = sales_data_detailed_clean.isnull().sum()\n",
    "counter_without_nan = counter_nan[counter_nan==0]\n",
    "print(counter_nan)\n",
    "\n",
    "# remove the rows with missing elements if needed or drop the column (we choose to drop the column)\n",
    "#data_clean_col = sales_data_detailed_clean[counter_without_nan.keys()]\n",
    "#print(data_clean_col.values)"
   ]
  },
  {
   "cell_type": "code",
   "execution_count": 17,
   "metadata": {},
   "outputs": [
    {
     "data": {
      "text/plain": [
       "array(['RC', 'JZ', 'PK', 'PV', 'X3', 'PN', 'PO', 'PD', 'J&', 'JE', 'JX',\n",
       "       'RO', 'X4', 'X7', 'JS', 'PP', 'JV'], dtype=object)"
      ]
     },
     "execution_count": 17,
     "metadata": {},
     "output_type": "execute_result"
    }
   ],
   "source": [
    "sales_data_detailed_clean['document_type'].unique()"
   ]
  },
  {
   "cell_type": "code",
   "execution_count": 18,
   "metadata": {},
   "outputs": [
    {
     "data": {
      "text/plain": [
       "array([112010,  59610,  59611,  75110, 111910, 104410,  50710,  48910])"
      ]
     },
     "execution_count": 18,
     "metadata": {},
     "output_type": "execute_result"
    }
   ],
   "source": [
    "sales_data_detailed_clean['GL_account'].unique()"
   ]
  },
  {
   "cell_type": "code",
   "execution_count": 19,
   "metadata": {},
   "outputs": [
    {
     "data": {
      "text/plain": [
       "array(['JP Morgan - USD', 'JPMorgan Chase, Sydney',\n",
       "       'JPMorgan Chase, Sydney FX', 'JP Morgan USD A/C - CAD',\n",
       "       'JP Morgan USD A/C - EUR', 'JP Morgan USD A/C - GBP',\n",
       "       'JP Morgan USD A/C - JPY', 'JP Morgan USD A/C - KRW',\n",
       "       'JP Morgan USD A/C - NOK', 'JP Morgan USD A/C - NZD',\n",
       "       'JP Morgan USD A/C - SGD', 'JP Morgan USD A/C - IDR',\n",
       "       'JP Morgan USD A/C - CHF', 'JP Morgan USD A/C - THB',\n",
       "       'JP Morgan - SG - AUD', 'JP Morgan Chase Bk N.A.,London',\n",
       "       'JP Morgan Bank', 'JP Morgan USD A/C - INR', 'JP Morgan - JPY',\n",
       "       'JP Morgan - NOK', 'JP Morgan - SGD', 'JP Morgan - EUR',\n",
       "       'JP Morgan Bank - AUD', 'JP Morgan Bank USD A/C - EUR',\n",
       "       'JP Morgan Bank USD A/C - GBP', 'JP Morgan Bank - USD',\n",
       "       'Den Norske Bank, Oslo, Norway', 'JP Morgan USD A/C - CNY',\n",
       "       'JP Morgan USD A/C - PGK', 'JP Morgan Bank - MYR',\n",
       "       'JP Morgan - AUD', 'JPMorgan Chase Bank,Aukland,NZ'], dtype=object)"
      ]
     },
     "execution_count": 19,
     "metadata": {},
     "output_type": "execute_result"
    }
   ],
   "source": [
    "sales_data_detailed_clean['GL_account_description'].unique()"
   ]
  },
  {
   "cell_type": "code",
   "execution_count": 20,
   "metadata": {},
   "outputs": [],
   "source": [
    "sales_data_detailed_clean['document_type'] = pd.factorize(sales_data_detailed_clean.document_type)[0]\n",
    "sales_data_detailed_clean['GL_account_description'] = pd.factorize(sales_data_detailed_clean.GL_account_description)[0]"
   ]
  },
  {
   "cell_type": "code",
   "execution_count": 21,
   "metadata": {},
   "outputs": [
    {
     "data": {
      "text/html": [
       "<div>\n",
       "<style scoped>\n",
       "    .dataframe tbody tr th:only-of-type {\n",
       "        vertical-align: middle;\n",
       "    }\n",
       "\n",
       "    .dataframe tbody tr th {\n",
       "        vertical-align: top;\n",
       "    }\n",
       "\n",
       "    .dataframe thead th {\n",
       "        text-align: right;\n",
       "    }\n",
       "</style>\n",
       "<table border=\"1\" class=\"dataframe\">\n",
       "  <thead>\n",
       "    <tr style=\"text-align: right;\">\n",
       "      <th></th>\n",
       "      <th>company</th>\n",
       "      <th>GL_account</th>\n",
       "      <th>GL_account_description</th>\n",
       "      <th>account_id</th>\n",
       "      <th>document_type</th>\n",
       "      <th>address_number</th>\n",
       "      <th>partition_ledger_year_month</th>\n",
       "      <th>amount_usd</th>\n",
       "    </tr>\n",
       "  </thead>\n",
       "  <tbody>\n",
       "    <tr>\n",
       "      <th>0</th>\n",
       "      <td>459</td>\n",
       "      <td>112010</td>\n",
       "      <td>0</td>\n",
       "      <td>751280</td>\n",
       "      <td>0</td>\n",
       "      <td>9931012.0</td>\n",
       "      <td>201807</td>\n",
       "      <td>4700449.77</td>\n",
       "    </tr>\n",
       "    <tr>\n",
       "      <th>1</th>\n",
       "      <td>459</td>\n",
       "      <td>112010</td>\n",
       "      <td>0</td>\n",
       "      <td>751280</td>\n",
       "      <td>0</td>\n",
       "      <td>1345553.0</td>\n",
       "      <td>201808</td>\n",
       "      <td>5284250.81</td>\n",
       "    </tr>\n",
       "    <tr>\n",
       "      <th>2</th>\n",
       "      <td>459</td>\n",
       "      <td>112010</td>\n",
       "      <td>0</td>\n",
       "      <td>751280</td>\n",
       "      <td>1</td>\n",
       "      <td>0.0</td>\n",
       "      <td>201510</td>\n",
       "      <td>3644851.76</td>\n",
       "    </tr>\n",
       "    <tr>\n",
       "      <th>3</th>\n",
       "      <td>459</td>\n",
       "      <td>112010</td>\n",
       "      <td>0</td>\n",
       "      <td>751280</td>\n",
       "      <td>0</td>\n",
       "      <td>1063556.0</td>\n",
       "      <td>201902</td>\n",
       "      <td>4331.25</td>\n",
       "    </tr>\n",
       "    <tr>\n",
       "      <th>4</th>\n",
       "      <td>459</td>\n",
       "      <td>112010</td>\n",
       "      <td>0</td>\n",
       "      <td>751280</td>\n",
       "      <td>1</td>\n",
       "      <td>0.0</td>\n",
       "      <td>201511</td>\n",
       "      <td>0.00</td>\n",
       "    </tr>\n",
       "  </tbody>\n",
       "</table>\n",
       "</div>"
      ],
      "text/plain": [
       "   company  GL_account  GL_account_description  account_id  document_type  \\\n",
       "0      459      112010                       0      751280              0   \n",
       "1      459      112010                       0      751280              0   \n",
       "2      459      112010                       0      751280              1   \n",
       "3      459      112010                       0      751280              0   \n",
       "4      459      112010                       0      751280              1   \n",
       "\n",
       "   address_number  partition_ledger_year_month  amount_usd  \n",
       "0       9931012.0                       201807  4700449.77  \n",
       "1       1345553.0                       201808  5284250.81  \n",
       "2             0.0                       201510  3644851.76  \n",
       "3       1063556.0                       201902     4331.25  \n",
       "4             0.0                       201511        0.00  "
      ]
     },
     "execution_count": 21,
     "metadata": {},
     "output_type": "execute_result"
    }
   ],
   "source": [
    "sales_data_detailed_clean.head()"
   ]
  },
  {
   "cell_type": "code",
   "execution_count": 22,
   "metadata": {},
   "outputs": [
    {
     "data": {
      "text/html": [
       "<div>\n",
       "<style scoped>\n",
       "    .dataframe tbody tr th:only-of-type {\n",
       "        vertical-align: middle;\n",
       "    }\n",
       "\n",
       "    .dataframe tbody tr th {\n",
       "        vertical-align: top;\n",
       "    }\n",
       "\n",
       "    .dataframe thead th {\n",
       "        text-align: right;\n",
       "    }\n",
       "</style>\n",
       "<table border=\"1\" class=\"dataframe\">\n",
       "  <thead>\n",
       "    <tr style=\"text-align: right;\">\n",
       "      <th></th>\n",
       "      <th>GL_account</th>\n",
       "      <th>amount_usd</th>\n",
       "    </tr>\n",
       "  </thead>\n",
       "  <tbody>\n",
       "    <tr>\n",
       "      <th>0</th>\n",
       "      <td>48910</td>\n",
       "      <td>1.334681e+05</td>\n",
       "    </tr>\n",
       "    <tr>\n",
       "      <th>1</th>\n",
       "      <td>50710</td>\n",
       "      <td>-1.868533e+08</td>\n",
       "    </tr>\n",
       "    <tr>\n",
       "      <th>2</th>\n",
       "      <td>59610</td>\n",
       "      <td>3.142289e+08</td>\n",
       "    </tr>\n",
       "    <tr>\n",
       "      <th>3</th>\n",
       "      <td>59611</td>\n",
       "      <td>-2.243508e+07</td>\n",
       "    </tr>\n",
       "    <tr>\n",
       "      <th>4</th>\n",
       "      <td>75110</td>\n",
       "      <td>2.061402e+07</td>\n",
       "    </tr>\n",
       "  </tbody>\n",
       "</table>\n",
       "</div>"
      ],
      "text/plain": [
       "   GL_account    amount_usd\n",
       "0       48910  1.334681e+05\n",
       "1       50710 -1.868533e+08\n",
       "2       59610  3.142289e+08\n",
       "3       59611 -2.243508e+07\n",
       "4       75110  2.061402e+07"
      ]
     },
     "execution_count": 22,
     "metadata": {},
     "output_type": "execute_result"
    }
   ],
   "source": [
    "# aggregate data based on accounts:\n",
    "\n",
    "sales_data_detailed_clean_aggregated = sales_data_detailed_clean.groupby('GL_account')['amount_usd'].sum().reset_index()\n",
    "sales_data_detailed_clean_aggregated.head()"
   ]
  },
  {
   "cell_type": "code",
   "execution_count": 23,
   "metadata": {},
   "outputs": [
    {
     "data": {
      "text/plain": [
       "<matplotlib.axes._subplots.AxesSubplot at 0x7fea06215128>"
      ]
     },
     "execution_count": 23,
     "metadata": {},
     "output_type": "execute_result"
    },
    {
     "data": {
      "image/png": "[encoded data removed]",
      "text/plain": [
       "<Figure size 1440x1440 with 1 Axes>"
      ]
     },
     "metadata": {
      "needs_background": "light"
     },
     "output_type": "display_data"
    }
   ],
   "source": [
    "# See outliers in the data to eliminate them as they would hamper the anlaysis:\n",
    "# Boxblot: to get outliers if any\n",
    "#pd.options.display.mpl_style = 'default'\n",
    "sales_data_detailed_clean.boxplot(figsize= (20,20), )\n",
    "\n",
    "#found a few outliers in amount usd, which can be removed"
   ]
  },
  {
   "cell_type": "code",
   "execution_count": 24,
   "metadata": {},
   "outputs": [
    {
     "data": {
      "text/plain": [
       "<matplotlib.axes._subplots.AxesSubplot at 0x7fea0c1580b8>"
      ]
     },
     "execution_count": 24,
     "metadata": {},
     "output_type": "execute_result"
    },
    {
     "data": {
      "image/png": "[encoded data removed]",
      "text/plain": [
       "<Figure size 1080x1080 with 1 Axes>"
      ]
     },
     "metadata": {
      "needs_background": "light"
     },
     "output_type": "display_data"
    }
   ],
   "source": [
    "#removing outliers by taking top 99% quantile:\n",
    "q = sales_data_detailed_clean[\"amount_usd\"].quantile(0.99999)\n",
    "data_clean_row_rem_outl1 = sales_data_detailed_clean[sales_data_detailed_clean[\"amount_usd\"] < q]\n",
    "data_clean_row_rem_outl1.boxplot(figsize= (15,15))"
   ]
  },
  {
   "cell_type": "code",
   "execution_count": 25,
   "metadata": {},
   "outputs": [
    {
     "data": {
      "text/plain": [
       "<matplotlib.axes._subplots.AxesSubplot at 0x7fea0f7a8a20>"
      ]
     },
     "execution_count": 25,
     "metadata": {},
     "output_type": "execute_result"
    },
    {
     "data": {
      "image/png": "[encoded data removed]",
      "text/plain": [
       "<Figure size 1080x1080 with 1 Axes>"
      ]
     },
     "metadata": {
      "needs_background": "light"
     },
     "output_type": "display_data"
    }
   ],
   "source": [
    "# removed outliers:\n",
    "data_clean_row_rem_outl2 = sales_data_detailed_clean[sales_data_detailed_clean[\"amount_usd\"] > q]\n",
    "data_clean_row_rem_outl2.boxplot(figsize= (15,15))"
   ]
  },
  {
   "cell_type": "markdown",
   "metadata": {},
   "source": [
    "# Standardize data (0 mean, 1 stdev)"
   ]
  },
  {
   "cell_type": "code",
   "execution_count": 28,
   "metadata": {},
   "outputs": [
    {
     "data": {
      "text/plain": [
       "<matplotlib.axes._subplots.AxesSubplot at 0x7fea0f8309b0>"
      ]
     },
     "execution_count": 28,
     "metadata": {},
     "output_type": "execute_result"
    },
    {
     "data": {
      "image/png": "[encoded data removed]",
      "text/plain": [
       "<Figure size 1440x1440 with 1 Axes>"
      ]
     },
     "metadata": {
      "needs_background": "light"
     },
     "output_type": "display_data"
    }
   ],
   "source": [
    "from sklearn.preprocessing import StandardScaler\n",
    "from sklearn.preprocessing import Normalizer\n",
    "#standardize\n",
    "array = data_clean_row_rem_outl1.values\n",
    "# separate array into input and output components\n",
    "X = array[:,0:8]\n",
    "Y = array[:,7]\n",
    "scaler = StandardScaler().fit(X)\n",
    "rescaledX = scaler.transform(X)\n",
    "data_clean_row_standz = pd.DataFrame(rescaledX, columns = list(data_clean_row_rem_outl1.columns.values) )\n",
    "\n",
    "data_clean_row_standz.boxplot(figsize= (20,20))"
   ]
  }
 ],
 "metadata": {
  "kernelspec": {
   "display_name": "Python 3",
   "language": "python",
   "name": "python3"
  },
  "language_info": {
   "codemirror_mode": {
    "name": "ipython",
    "version": 3
   },
   "file_extension": ".py",
   "mimetype": "text/x-python",
   "name": "python",
   "nbconvert_exporter": "python",
   "pygments_lexer": "ipython3",
   "version": "3.7.0"
  },
  "toc": {
   "base_numbering": 1,
   "nav_menu": {},
   "number_sections": true,
   "sideBar": true,
   "skip_h1_title": false,
   "title_cell": "Table of Contents",
   "title_sidebar": "Contents",
   "toc_cell": false,
   "toc_position": {
    "height": "calc(100% - 180px)",
    "left": "10px",
    "top": "150px",
    "width": "165px"
   },
   "toc_section_display": true,
   "toc_window_display": true
  }
 },
 "nbformat": 4,
 "nbformat_minor": 2
}
